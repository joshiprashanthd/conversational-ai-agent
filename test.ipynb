{
 "cells": [
  {
   "cell_type": "code",
   "execution_count": 1,
   "metadata": {},
   "outputs": [],
   "source": [
    "from utils import parse_llm_output, make_input, extract_strings\n",
    "from groq_model import Llama3_1_70B_Versatile, Llama3_1_8B_Instant"
   ]
  },
  {
   "cell_type": "code",
   "execution_count": 2,
   "metadata": {},
   "outputs": [],
   "source": [
    "model = Llama3_1_70B_Versatile()"
   ]
  },
  {
   "cell_type": "code",
   "execution_count": 3,
   "metadata": {},
   "outputs": [],
   "source": [
    "\n",
    "prompt = \"\"\"You are an expert mental health professional. Your goal is to read patient's answers to some of the questions given and find out the category (or categories) they belong to and extract relevant phrases from the answer which can be useful to assess patient's mental state.\n",
    "\n",
    "Task Instructions:\n",
    "\t- You can pick multiple categories which are most suitable for the answer.\n",
    "\t- Categories for each question are provided, do not create categories of your own.\n",
    "    - All ways add number and the title of the question before generating categories.\n",
    "    - Do not repeat answer in your response.\n",
    "\t- Enclose all the comma separated categories you generate with left bracket [ and right bracket ]\n",
    "\t- Enclose each the comma separated extracted phrases in left angle bracket < and right angle bracket >.\n",
    "\t\n",
    "\n",
    "1. Noise during sleep \n",
    "Question: Can you tell me a little about the noise level in your sleep environment? Is it usually quiet, or are there disturbances like traffic or household noises?\n",
    "Categories: [quiet, moderate noise, very noise]\n",
    "Answer: I don't really pay attention to noise. It's always there. There's this constant hum in my head, so other noises don't really bother me.\n",
    "\n",
    "2. Temperature During Sleep\n",
    "Question: How would you describe the temperature in your bedroom when you sleep? Is it too warm, too cold, or just right?\n",
    "Categories: [too cold, comfortable, too hot]\n",
    "Answer: I don't know. I'm usually cold, even when the heat is on. Nothing seems to warm me up.\n",
    "\n",
    "3. Sleep Continuity\n",
    "Question: Do you tend to sleep through the night without waking up, or do you find yourself waking up several times? If so, can you tell me a bit about that?\n",
    "Categories: [Undisturbed, Few interruptions 1 to 2 times, Frequent interruptions 3+ times, Very fragmented sleep]\n",
    "Answer: I wake up all the time. I don't know why. It's like my brain won't shut off. I just lie there staring at the ceiling.\n",
    "\n",
    "4. Thoughts Before Sleep\n",
    "Question: What kind of thoughts do you usually have when you’re trying to fall asleep? Are they calm and relaxing, or do you find yourself worrying about things?\n",
    "Categories: [excited, hopeful, anxious, worried, blank, forgetful, planning, strategizing]\n",
    "Answer: My mind just races. I think about everything that went wrong that day, and then I start worrying about tomorrow. It's a never-ending cycle.\n",
    "\n",
    "5. Thoughts After Waking Up\n",
    "Question: How do you typically feel when you wake up in the morning? Refreshed and ready to start the day, or tired and groggy?\n",
    "Categories: [Refreshed, Tired, Hurried, Concerned]\n",
    "Answer: I feel like a zombie. I don't want to get out of bed. Everything feels heavy and pointless.\n",
    "\n",
    "6. Kind of Dreams\n",
    "Question: Can you tell me a bit about your dreams? Do you remember them often? Are they usually pleasant, or do you have nightmares or disturbing dreams?\n",
    "Categories: [Pleasant, Neutral, Nightmares, Vivid, Lucid, Recurring]\n",
    "Answer: I don't remember my dreams. Or maybe I do, but they're just a blur. Nothing important.\n",
    "\n",
    "\n",
    "Extract relevant phrases from the answer and assign categories for each answer:\n",
    "\"\"\""
   ]
  },
  {
   "cell_type": "code",
   "execution_count": 5,
   "metadata": {},
   "outputs": [
    {
     "name": "stdout",
     "output_type": "stream",
     "text": [
      "1. Noise during sleep \n",
      "[very noise]\n",
      "<constant hum in my head>\n",
      "\n",
      "2. Temperature During Sleep\n",
      "[too cold]\n",
      "<I'm usually cold, even when the heat is on, Nothing seems to warm me up>\n",
      "\n",
      "3. Sleep Continuity\n",
      "[Frequent interruptions 3+ times, Very fragmented sleep]\n",
      "<wake up all the time, brain won't shut off>\n",
      "\n",
      "4. Thoughts Before Sleep\n",
      "[anxious, worried]\n",
      "<mind just races, think about everything that went wrong that day, worrying about tomorrow>\n",
      "\n",
      "5. Thoughts After Waking Up\n",
      "[Tired, Concerned]\n",
      "<feel like a zombie, don't want to get out of bed, everything feels heavy and pointless>\n",
      "\n",
      "6. Kind of Dreams\n",
      "[Neutral]\n",
      "<I don't remember my dreams, or maybe I do, but they're just a blur>\n"
     ]
    }
   ],
   "source": [
    "response = model.completion(prompt)\n",
    "output = parse_llm_output(response)\n",
    "print(response)\n",
    "# print(output)"
   ]
  },
  {
   "cell_type": "code",
   "execution_count": 6,
   "metadata": {},
   "outputs": [
    {
     "data": {
      "text/plain": [
       "{'1. Noise during sleep': (['very noise'], ['constant hum in my head']),\n",
       " 'Temperature During Sleep': (['too cold'],\n",
       "  [\"I'm usually cold\",\n",
       "   'even when the heat is on',\n",
       "   'Nothing seems to warm me up']),\n",
       " 'Sleep Continuity': (['Frequent interruptions 3+ times',\n",
       "   'Very fragmented sleep'],\n",
       "  ['wake up all the time', \"brain won't shut off\"]),\n",
       " 'Thoughts Before Sleep': (['anxious', 'worried'],\n",
       "  ['mind just races',\n",
       "   'think about everything that went wrong that day',\n",
       "   'worrying about tomorrow']),\n",
       " 'Thoughts After Waking Up': (['Tired', 'Concerned'],\n",
       "  ['feel like a zombie',\n",
       "   \"don't want to get out of bed\",\n",
       "   'everything feels heavy and pointless']),\n",
       " 'Kind of Dreams': (['Neutral'],\n",
       "  [\"I don't remember my dreams\", 'or maybe I do', \"but they're just a blur\"])}"
      ]
     },
     "execution_count": 6,
     "metadata": {},
     "output_type": "execute_result"
    }
   ],
   "source": [
    "output"
   ]
  },
  {
   "cell_type": "code",
   "execution_count": 8,
   "metadata": {},
   "outputs": [],
   "source": [
    "prompt = \"\"\"We are gathering information about patient's sleep health. This information consist of various parameters each having some categories. A category describes the broad state of patient's sleep health in terms of the parameter. \n",
    "\n",
    "Your goal is to make (reason, activity) pairs. An activity should be created such that it somehow changes the state of parameter from on category to another category. \n",
    "Activities should be related to the topic given, for example if the topic is \"yoga\" then activity will have to contain some asanas that comes under yoga.\n",
    "\n",
    "For example, suppose the category of parameter \"thoughts before sleep\" is \"worried\". This means that patient is worried about something before going to sleep. An activity like \"go for a walk\" could make the patient less \"worried\" and more \"calm\". This is how we can change the category of one parameter to other parameter by suggesting some activity.\n",
    "\n",
    "Output Instructions:\n",
    "    - Always generate a pair of reason and activity.\n",
    "    - Always enclose reason in left angle bracket < and right angle bracket >.\n",
    "    - Always enclose activity in left square bracket [ and right square bracket ].\n",
    "    - Activity should be gentle enough to be done by an average person.\n",
    "    - Reason should not be very generic, and be informative about the activity.\n",
    "\n",
    "Given a parameter, current category and target category, suggest a (reason, activity) pair that changes the current category into target category.\n",
    "\n",
    "Parameter: {parameter}\n",
    "Current Category: {current_category}\n",
    "Target Category: {target_category}\n",
    "Topic: {topic}\n",
    "Output:\n",
    "\"\"\""
   ]
  },
  {
   "cell_type": "code",
   "execution_count": 13,
   "metadata": {},
   "outputs": [
    {
     "data": {
      "text/plain": [
       "'<Practicing slow and deep breathing can calm the mind and reduce worries before sleep.> [Perform Bhastrika Pranayama for 5 minutes, followed by 5 minutes of Anuloma Viloma Pranayama to slow down your breathing and calm your mind.]'"
      ]
     },
     "execution_count": 13,
     "metadata": {},
     "output_type": "execute_result"
    }
   ],
   "source": [
    "parameter = \"Thoughts before sleep\"\n",
    "current_category = \"Worried\"\n",
    "target_category = \"Calm\"\n",
    "topic = \"Pranayama/Breathing exercises\"\n",
    "\n",
    "response = model.completion(prompt.format(parameter=parameter, current_category=current_category, target_category=target_category, topic=topic))\n",
    "response"
   ]
  },
  {
   "cell_type": "code",
   "execution_count": 14,
   "metadata": {},
   "outputs": [],
   "source": [
    "import re\n",
    "def extract_strings(input_string, encloser):\n",
    "    enclosers = {\"(\": \")\", \"[\": \"]\", \"{\": \"}\", \"<\": \">\"}\n",
    "\n",
    "    if encloser not in enclosers:\n",
    "        raise ValueError(\"Invalid encloser. Supported enclosers are (, [, {, and <\")\n",
    "\n",
    "    closing_encloser = enclosers[encloser]\n",
    "\n",
    "    escaped_open = re.escape(encloser)\n",
    "    escaped_close = re.escape(closing_encloser)\n",
    "\n",
    "    pattern = f\"{escaped_open}([^{escaped_open}{escaped_close}]*){escaped_close}\"\n",
    "    matches = re.findall(pattern, input_string)\n",
    "\n",
    "    result = []\n",
    "    for match in matches:\n",
    "        result.append(match)\n",
    "\n",
    "    return result"
   ]
  },
  {
   "cell_type": "code",
   "execution_count": 15,
   "metadata": {},
   "outputs": [
    {
     "data": {
      "text/plain": [
       "['Perform Bhastrika Pranayama for 5 minutes, followed by 5 minutes of Anuloma Viloma Pranayama to slow down your breathing and calm your mind.']"
      ]
     },
     "execution_count": 15,
     "metadata": {},
     "output_type": "execute_result"
    }
   ],
   "source": [
    "extract_strings(response, \"[\")"
   ]
  },
  {
   "cell_type": "code",
   "execution_count": 16,
   "metadata": {},
   "outputs": [
    {
     "data": {
      "text/plain": [
       "['Practicing slow and deep breathing can calm the mind and reduce worries before sleep.']"
      ]
     },
     "execution_count": 16,
     "metadata": {},
     "output_type": "execute_result"
    }
   ],
   "source": [
    "extract_strings(response, \"<\")"
   ]
  },
  {
   "cell_type": "code",
   "execution_count": null,
   "metadata": {},
   "outputs": [],
   "source": []
  }
 ],
 "metadata": {
  "kernelspec": {
   "display_name": "mtpenv",
   "language": "python",
   "name": "python3"
  },
  "language_info": {
   "codemirror_mode": {
    "name": "ipython",
    "version": 3
   },
   "file_extension": ".py",
   "mimetype": "text/x-python",
   "name": "python",
   "nbconvert_exporter": "python",
   "pygments_lexer": "ipython3",
   "version": "3.9.19"
  }
 },
 "nbformat": 4,
 "nbformat_minor": 2
}
